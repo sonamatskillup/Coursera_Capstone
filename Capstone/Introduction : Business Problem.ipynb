{
    "cells": [
        {
            "cell_type": "markdown",
            "metadata": {},
            "source": "# Applied Data Science Capstone Project"
        },
        {
            "cell_type": "markdown",
            "metadata": {},
            "source": "> Data Science Report on Car Accident Severity"
        },
        {
            "cell_type": "markdown",
            "metadata": {
                "collapsed": true
            },
            "source": "## Introduction : Business Problem\n\nThis section contains a description of the problem and a discussion of the background."
        },
        {
            "cell_type": "markdown",
            "metadata": {},
            "source": "With the world population well over the seven billion mark and high vehicular traffic, road accidents are very common. Often, there is a loss of property and even life. It would be great to understand the most common causes so that accidents can be prevented from happening.\n\nAn algorithm has to be designed to understand the dynamics of car accident data. For reducing car collisions frequency in a community, the algorithm must predict the severity of a possible accident taking care of the following conditions:\n\n- current weather\n- road condition\n- visibility condition\n\nThe analysis will impart a thorough understanding of the factors and the correlations between them. Studying these relations shall have multiple applications. Devices connected by internet of things can collect information related to the conditions and they may be integrated them into an app.\n\nOn any particular day, the conditions can be used to alert drivers about bad conditions. By the virtue of this, drivers may practice an added carefulness during driving or the police may enforce more safety protocols.\n\nThe model described will be beneficial in reducing road accidents and the loss incurred because of that."
        }
    ],
    "metadata": {
        "kernelspec": {
            "display_name": "Python 3.6",
            "language": "python",
            "name": "python3"
        },
        "language_info": {
            "codemirror_mode": {
                "name": "ipython",
                "version": 3
            },
            "file_extension": ".py",
            "mimetype": "text/x-python",
            "name": "python",
            "nbconvert_exporter": "python",
            "pygments_lexer": "ipython3",
            "version": "3.6.9"
        }
    },
    "nbformat": 4,
    "nbformat_minor": 1
}