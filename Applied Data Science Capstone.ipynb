{
    "cells": [
        {
            "cell_type": "markdown",
            "metadata": {},
            "source": "# Jupyter Notebook for Capstone Project"
        },
        {
            "cell_type": "markdown",
            "metadata": {
                "collapsed": true
            },
            "source": "> ### Instructions\n> - Start a Jupyter notebook.\n> - Write some markdown to explain that this notebook will be mainly used for the capstone project.\n> - Import the `pandas` library as pd.\n> - Import the `numpy` library as np.\n> - Print the following the statement:\n>        Hello Capstone Project Course!\n> - Push the Notebook to Github repository and submit a link to the notebook on your Github repository."
        },
        {
            "cell_type": "markdown",
            "metadata": {},
            "source": "This is a Jupyter Notebook created on the IBM cloud where the language Python 3.6 is incorporated having 2 virtual central processing units (vCPU) and 8 GB random access memory (RAM).\n\n***\n\nNow, the libraries are to be imported and the statement be printed."
        },
        {
            "cell_type": "code",
            "execution_count": 1,
            "metadata": {},
            "outputs": [],
            "source": "import pandas as pd"
        },
        {
            "cell_type": "code",
            "execution_count": 2,
            "metadata": {},
            "outputs": [],
            "source": "import numpy as np"
        },
        {
            "cell_type": "code",
            "execution_count": 5,
            "metadata": {},
            "outputs": [
                {
                    "name": "stdout",
                    "output_type": "stream",
                    "text": "Hello Capstone Project Course!\n"
                }
            ],
            "source": "print('Hello Capstone Project Course!')"
        },
        {
            "cell_type": "markdown",
            "metadata": {},
            "source": "Now the Notebook is pushed to Github repository `/Coursera_Capstone`."
        },
        {
            "cell_type": "code",
            "execution_count": null,
            "metadata": {},
            "outputs": [],
            "source": ""
        }
    ],
    "metadata": {
        "kernelspec": {
            "display_name": "Python 3.6",
            "language": "python",
            "name": "python3"
        },
        "language_info": {
            "codemirror_mode": {
                "name": "ipython",
                "version": 3
            },
            "file_extension": ".py",
            "mimetype": "text/x-python",
            "name": "python",
            "nbconvert_exporter": "python",
            "pygments_lexer": "ipython3",
            "version": "3.6.9"
        }
    },
    "nbformat": 4,
    "nbformat_minor": 1
}